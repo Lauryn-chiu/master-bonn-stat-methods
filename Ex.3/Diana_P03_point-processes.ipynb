{
 "cells": [
  {
   "cell_type": "markdown",
   "metadata": {},
   "source": [
    "# **GROUP 8 - Solutions to P02**"
   ]
  },
  {
   "cell_type": "markdown",
   "metadata": {},
   "source": [
    "**Students:**\n",
    "- Marek Majoch, <s13mmajo@uni-bonn.de>, M.Sc Astrophysics\n",
    "- Yanhanle Lauryn Zhao, <s19yzhao@uni-bonn.de>, M.Sc Astrophysics\n",
    "- Diana Victoria Lopez Navarro, <s09dlope@uni-bonn.de>, M.Sc Astrophysics\n",
    "- Rutul Kumar,  , M.Sc Astrophysics\n",
    "\n",
    "**Deadline:** 31. Oct 2024, 13:00 \n",
    "_______________________________________________________\n"
   ]
  },
  {
   "cell_type": "code",
   "execution_count": 328,
   "metadata": {
    "tags": []
   },
   "outputs": [],
   "source": [
    "import numpy as np\n",
    "import matplotlib.pyplot as plt\n",
    "from mpl_toolkits.mplot3d import Axes3D "
   ]
  },
  {
   "cell_type": "markdown",
   "metadata": {},
   "source": [
    "# P03: Point Processes"
   ]
  },
  {
   "cell_type": "markdown",
   "metadata": {},
   "source": [
    "## Problem 1: Mean and variance of Gaussian random variable"
   ]
  },
  {
   "cell_type": "markdown",
   "metadata": {},
   "source": [
    "Let us simulate the experiment of measuring a Gaussian random variable with $\\mu=0$ and standard deviation $\\sigma=1$. Each experiment is a draw from a standard normal.\n",
    "\n",
    "(i) Simulate 10 repetitions of this experiment by drawing $n_{\\mathrm{samp}}=10$ samples from this distribution.\n"
   ]
  },
  {
   "cell_type": "markdown",
   "metadata": {},
   "source": [
    "(ii) Use `numpy` routines to estimate the mean and the variance of the samples. For the variance, use the trivial but biased estimator as well as the unbiased one."
   ]
  },
  {
   "cell_type": "code",
   "execution_count": 329,
   "metadata": {},
   "outputs": [],
   "source": [
    "def sampling(mu,sigma,n):\n",
    "    samples = np.random.normal(mu, sigma, n)\n",
    "    return samples\n",
    "\n",
    "def plotting(function,n, n_bin):\n",
    "    fig, ax =  plt.subplots(figsize=(6, 4))\n",
    "    ax.hist(function, bins=n_bin, color ='b',  alpha=0.7, range=(-8,8), density = True)\n",
    "    ax.set_title(str(names[0])+' , n=%i' %n)\n",
    "    ax.set_xlabel('Position')\n",
    "    ax.set_ylabel('Frequency')\n",
    "    \n",
    "    plt.tight_layout()\n",
    "    plt.show()"
   ]
  },
  {
   "cell_type": "code",
   "execution_count": 330,
   "metadata": {},
   "outputs": [],
   "source": [
    "mu, sigma = 0, 1 # mean and standard deviation\n",
    "n = [10]*10 #[number of samples]*number of experiments"
   ]
  },
  {
   "cell_type": "code",
   "execution_count": 331,
   "metadata": {},
   "outputs": [],
   "source": [
    "#Samples\n",
    "samples_10 = np.array([])\n",
    "a=1\n",
    "mean_10, var_10, uvar_10=np.array([]), np.array([]), np.array([])\n",
    "for i in n:\n",
    "    names =['Y'+str(a)]\n",
    "    sample = sampling(mu,sigma,i)\n",
    "    #plot=plotting(sample, i,25)\n",
    "    samples_10 = np.append(samples, sample.copy())\n",
    "    mean_10= np.append(mean, np.mean(sample))\n",
    "    var_10= np.append(var, np.var(sample))\n",
    "    uvar_10= np.append(uvar, np.var(sample, ddof=1))\n",
    "    a=a+1\n"
   ]
  },
  {
   "cell_type": "markdown",
   "metadata": {},
   "source": [
    "## Problem 2: Distribution of sample mean"
   ]
  },
  {
   "cell_type": "markdown",
   "metadata": {},
   "source": [
    "Write a function that repeats problem 1 $n$ times.\n",
    "\n",
    "(i) Using these samples, investigate the distribution of the sample mean. How does it compare to your expectations? How do your conclusions change if you increase the sample size to $n_{\\mathrm{samp}}=100$?\n"
   ]
  },
  {
   "cell_type": "code",
   "execution_count": 332,
   "metadata": {},
   "outputs": [],
   "source": [
    "#     Sample n experiments with m number of samples.\n",
    "#     Args:\n",
    "#     mu : mean\n",
    "#     sigma : standard deviation\n",
    "#     n : number of experiments, is a list with len(number of experiments) and content #of samples m e.g [10, 100,1000] \n",
    "    \n",
    "#     Returns:\n",
    "#         (:obj:`integer`, `float` or `array`): samples, mean, biased und unbiased var.\n",
    "def sampling_experiments(n,mu,sigma):\n",
    "    samples = []\n",
    "    mean, var, uvar= [],[],[]\n",
    "    \n",
    "    for i in range(len(n)):\n",
    "        sample = sampling(mu,sigma,int(n[i]))\n",
    "        samples.append(sample.copy())\n",
    "        mean.append(np.mean(sample))\n",
    "        var.append( np.var(sample))\n",
    "        uvar.append(np.var(sample, ddof=1))\n",
    "\n",
    "    return samples, mean, var, uvar"
   ]
  },
  {
   "cell_type": "code",
   "execution_count": 333,
   "metadata": {},
   "outputs": [
    {
     "name": "stdout",
     "output_type": "stream",
     "text": [
      "[-0.016331303098424715, -0.02358528016360898, 0.04446407003947695, 0.08053339573885633, -0.0863652149239602, -0.08595146119929, 0.055753207946687144, -0.02605956142776259, -0.037333828579673954, 0.009672161161782695]\n",
      "[-0.012634226044917003, 0.00863113579319797, -0.002113383813032254, -0.0074712045617758805, -0.0481743707564043, -0.010017003159233895, -0.04332636836463504, -0.017358116349974587, 0.06516177789221807, 0.013089473563270256]\n",
      "[-0.012634226044917003, 0.00863113579319797, -0.002113383813032254, -0.0074712045617758805, -0.0481743707564043, -0.010017003159233895, -0.04332636836463504, -0.017358116349974587, 0.06516177789221807, 0.013089473563270256]\n"
     ]
    }
   ],
   "source": [
    "n100 = [100]*10 #[number of samples]*number of experiments\n",
    "samples_100, means_100, vars_biased_100, vars_unbiased_100  = sampling_experiments(n100,mu,sigma)\n",
    "print(means_100)\n",
    "\n",
    "n1000= [1000]*10 #[number of samples]*number of experiments\n",
    "samples_1000, means_1000, vars_biased_1000, vars_unbiased_1000  = sampling_experiments(n1000,mu,sigma)\n",
    "print(means_1000)\n",
    "\n",
    "n10000 = [10000]*10 #[number of samples]*number of experiments\n",
    "samples_10000, means_10000, vars_biased_10000, vars_unbiased_10000  = sampling_experiments(n10000,mu,sigma)\n",
    "print(means_1000)"
   ]
  },
  {
   "cell_type": "code",
   "execution_count": 334,
   "metadata": {},
   "outputs": [
    {
     "data": {
      "image/png": "[encoded data removed]",
      "text/plain": [
       "<Figure size 864x216 with 4 Axes>"
      ]
     },
     "metadata": {
      "needs_background": "light"
     },
     "output_type": "display_data"
    }
   ],
   "source": [
    "fig, axh = plt.subplots(ncols=4, figsize=(12, 3))\n",
    "axh[0].hist(mean_10, bins=50, color='blue', alpha=0.7, edgecolor='black', range=(-0.9, 0.9))\n",
    "axh[0].set_title('Mean values n =10', fontsize=10)\n",
    "axh[0].set_xlabel('Mean')\n",
    "axh[0].set_ylabel('Frequency')\n",
    "\n",
    "axh[1].hist(means_100, bins=100, color ='b', alpha=0.7, range=(-0.9, 0.9))\n",
    "axh[1].set_title('Mean values n =100', fontsize=10)\n",
    "axh[0].set_xlabel('Mean')\n",
    "axh[1].set_ylabel('Frequency')\n",
    "\n",
    "axh[2].hist(means_1000, bins=100, color ='b', alpha=0.7, range=(-0.9, 0.9))\n",
    "axh[2].set_title('Mean values n =1000', fontsize=10)\n",
    "axh[0].set_xlabel('Mean')\n",
    "axh[2].set_ylabel('Frequency')\n",
    "\n",
    "axh[3].hist(means_10000, bins=100, color ='b', alpha=0.7, range=(-0.9, 0.9))\n",
    "axh[3].set_title('Mean values n =10000', fontsize=10)\n",
    "axh[0].set_xlabel('Mean')\n",
    "axh[3].set_ylabel('Frequency')\n",
    "\n",
    "plt.tight_layout()\n",
    "plt.show()"
   ]
  },
  {
   "cell_type": "markdown",
   "metadata": {},
   "source": [
    "(ii) Using these samples, investigate the bias of the variance estimators. How does it compare to your expectations? How do your conclusions change if you increase the sample size to $n_{\\mathrm{samp}}=100$?"
   ]
  },
  {
   "cell_type": "markdown",
   "metadata": {},
   "source": [
    "## Problem 3: Analyzing samples"
   ]
  },
  {
   "cell_type": "markdown",
   "metadata": {},
   "source": [
    "Load `sample1.out` from the `data` directory into your notebook. Inspect the distribution of the sample by plotting a histogram. \n",
    "\n",
    "(i) Write a class that is able to estimate mean and variance as well as error on the mean and bias of the variance. Make the choice of the variance estimator an argument of the class' `__init__` function.\n",
    "\n",
    "(ii) Use your class to estimate mean and variance of `sample1.out`. In addition, also estimate the median and plot them on top of your histogram.\n",
    "\n",
    "(iii) Now also estimate the mean and variance of the remaining samples in the `data` directory. Are the samples consistent with being drawn from the same underlying distribution? If yes, investigate the distribution of the sample means and compare to your expectations."
   ]
  },
  {
   "cell_type": "markdown",
   "metadata": {},
   "source": [
    "## Problem 4: The Poisson distribution"
   ]
  },
  {
   "cell_type": "markdown",
   "metadata": {},
   "source": [
    "Let us assume we have a process in which the probability of a given event, $p$, is small but we perform a large number of trials $N$. We further assume that the so-called rate of this process (or mean number of ocurring events), $\\lambda=Np$, is finite and constant. Then the probability of $k$ events occurring follows a Poisson distribution given by $$P(k|\\lambda)=\\frac{\\lambda^k e^{-\\lambda}}{k!}.$$ So the Poisson distribution describes the distributions of events, where each single one is rare but we perform a large number of trials in order to keep $\\lambda$ constant. An example for this is the number of photons reaching a telescope.\n",
    "\n",
    "One of the earliest application of Poisson processes was the probability of Prussian soldiers being kicked to death by horses. This problem was analyzed by Ladislaus Bortkiewicz in 1898. Analyzing 10 Prussian corps for 20 years he collected the following data:\n",
    "\n",
    "| Number of deaths | Number of groups |\n",
    "|:---| :--- |\n",
    "| 0 | 109 |\n",
    "| 1 | 65 |\n",
    "| 2 | 22 |\n",
    "| 3 | 3 |\n",
    "| 4 | 1 |\n",
    "\n",
    "(i) Plot the probability distribution of these data.\n",
    "\n",
    "(ii) Compare to the theoretical prediction using Poisson statistics."
   ]
  },
  {
   "cell_type": "code",
   "execution_count": null,
   "metadata": {},
   "outputs": [],
   "source": []
  }
 ],
 "metadata": {
  "kernelspec": {
   "display_name": "Python 3 (ipykernel)",
   "language": "python",
   "name": "python3"
  },
  "language_info": {
   "codemirror_mode": {
    "name": "ipython",
    "version": 3
   },
   "file_extension": ".py",
   "mimetype": "text/x-python",
   "name": "python",
   "nbconvert_exporter": "python",
   "pygments_lexer": "ipython3",
   "version": "3.9.7"
  }
 },
 "nbformat": 4,
 "nbformat_minor": 4
}
