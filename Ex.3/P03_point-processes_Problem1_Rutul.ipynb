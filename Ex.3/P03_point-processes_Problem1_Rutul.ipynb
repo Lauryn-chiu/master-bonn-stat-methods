{
 "cells": [
  {
   "cell_type": "markdown",
   "metadata": {},
   "source": [
    "# P03: Point Processes"
   ]
  },
  {
   "cell_type": "markdown",
   "metadata": {},
   "source": [
    "## Problem 1: Mean and variance of Gaussian random variable"
   ]
  },
  {
   "cell_type": "markdown",
   "metadata": {},
   "source": [
    "Let us simulate the experiment of measuring a Gaussian random variable with $\\mu=0$ and standard deviation $\\sigma=1$. Each experiment is a draw from a standard normal."
   ]
  },
  {
   "cell_type": "markdown",
   "metadata": {},
   "source": [
    "(i) Simulate 10 repetitions of this experiment by drawing $n_{\\mathrm{samp}}=10$ samples from this distribution."
   ]
  },
  {
   "cell_type": "code",
   "execution_count": 2,
   "metadata": {},
   "outputs": [
    {
     "name": "stdout",
     "output_type": "stream",
     "text": [
      "[[ 0.18596878  1.25769569 -2.26003271  0.16180086  0.03540603  2.37001372\n",
      "  -0.44626117 -1.20232799 -1.02225544  0.17747129]\n",
      " [ 1.13908121  0.1833797  -0.31566111  0.66199693  0.49851565  0.07725671\n",
      "   0.48884498 -2.51503537 -0.65923549 -0.24083509]\n",
      " [-2.41838318  0.03604784 -0.67005602 -1.99995643  0.94067819  0.78042428\n",
      "  -1.85106765  0.79235972 -0.36791975 -0.1928916 ]\n",
      " [-0.79296772 -0.59284281  0.33399968 -0.13004299  0.12375311  0.48139531\n",
      "   1.73264781  0.36933436 -0.7146222   0.88984051]\n",
      " [-0.55933459 -0.26415729  0.05500363  1.09609434 -1.21687146  0.74316929\n",
      "   0.66765461  0.25211435  1.58121629  1.73936241]\n",
      " [ 0.93168568 -0.00944482 -1.07113096 -2.06389163  0.05125423  0.73178613\n",
      "   1.30585322  1.03783724 -0.18002798 -0.65741046]\n",
      " [-0.38347193  0.45907645  0.53886446 -1.34151891  1.80760496 -0.5294096\n",
      "   0.36643489 -2.17839976  0.27580512 -1.38383154]\n",
      " [ 0.53601094  1.19307675 -0.65927961 -0.87093796  2.6795793  -1.03928139\n",
      "  -0.58069058  2.63139212 -0.79200464  0.66972753]\n",
      " [-0.51896397  0.88463675 -0.73078294  0.56091732 -0.75252396 -0.04530185\n",
      "  -0.42549133 -0.65337242 -0.12207003 -1.10157735]\n",
      " [ 1.80867568  0.52013735  0.82057235  0.58003148 -2.39191545 -1.7771929\n",
      "   0.14634992 -0.83448197  1.42544293 -2.27088676]]\n"
     ]
    }
   ],
   "source": [
    "import numpy as np\n",
    "\n",
    "#Paramters\n",
    "mu = 0\n",
    "sigma = 1\n",
    "n_samp = 10\n",
    "n_reps = 10\n",
    "\n",
    "# Simulating 10 repetitions of drawing 10 samples\n",
    "samples = np.random.normal(mu, sigma, (n_reps, n_samp))\n",
    "\n",
    "print(samples)"
   ]
  },
  {
   "cell_type": "markdown",
   "metadata": {},
   "source": [
    "(ii) Use `numpy` routines to estimate the mean and the variance of the samples. For the variance, use the trivial but biased estimator as well as the unbiased one."
   ]
  },
  {
   "cell_type": "code",
   "execution_count": 15,
   "metadata": {},
   "outputs": [
    {
     "data": {
      "text/plain": [
       "array([ 2.98555645, -0.02075629,  1.0571324 ,  3.32090786,  2.20380181,\n",
       "        2.19652335,  3.14205284,  3.16024399,  1.63291071,  2.22335813])"
      ]
     },
     "execution_count": 15,
     "metadata": {},
     "output_type": "execute_result"
    }
   ],
   "source": [
    "np.random.normal(2, 1, (10,))"
   ]
  },
  {
   "cell_type": "code",
   "execution_count": 4,
   "metadata": {},
   "outputs": [
    {
     "name": "stdout",
     "output_type": "stream",
     "text": [
      "[-0.07425209 -0.06816919 -0.49507646  0.17004951  0.40942516  0.00765106\n",
      " -0.23688459  0.37675925 -0.29045298 -0.19732674]\n"
     ]
    }
   ],
   "source": [
    "# Calculating the mean and the variance\n",
    "sample_means = np.mean(samples, axis=1)\n",
    "variances_biased = np.var(samples, axis=1) # biased variance\n",
    "variance_unbiased = np.var(samples, axis=1, ddof=1) # unbiased variance\n",
    "\n",
    "print(sample_means)"
   ]
  },
  {
   "cell_type": "markdown",
   "metadata": {},
   "source": [
    "## Problem 2: Distribution of sample mean"
   ]
  },
  {
   "cell_type": "markdown",
   "metadata": {},
   "source": [
    "Write a function that repeats problem 1 $n$ times.\n",
    "\n",
    "(i) Using these samples, investigate the distribution of the sample mean. How does it compare to your expectations? How do your conclusions change if you increase the sample size to $n_{\\mathrm{samp}}=100$?\n",
    "\n",
    "(ii) Using these samples, investigate the bias of the variance estimators. How does it compare to your expectations? How do your conclusions change if you increase the sample size to $n_{\\mathrm{samp}}=100$?"
   ]
  },
  {
   "cell_type": "markdown",
   "metadata": {},
   "source": [
    "## Problem 3: Analyzing samples"
   ]
  },
  {
   "cell_type": "markdown",
   "metadata": {},
   "source": [
    "Load `sample1.out` from the `data` directory into your notebook. Inspect the distribution of the sample by plotting a histogram. \n",
    "\n",
    "(i) Write a class that is able to estimate mean and variance as well as error on the mean and bias of the variance. Make the choice of the variance estimator an argument of the class' `__init__` function.\n",
    "\n",
    "(ii) Use your class to estimate mean and variance of `sample1.out`. In addition, also estimate the median and plot them on top of your histogram.\n",
    "\n",
    "(iii) Now also estimate the mean and variance of the remaining samples in the `data` directory. Are the samples consistent with being drawn from the same underlying distribution? If yes, investigate the distribution of the sample means and compare to your expectations."
   ]
  },
  {
   "cell_type": "markdown",
   "metadata": {},
   "source": [
    "## Problem 4: The Poisson distribution"
   ]
  },
  {
   "cell_type": "markdown",
   "metadata": {},
   "source": [
    "Let us assume we have a process in which the probability of a given event, $p$, is small but we perform a large number of trials $N$. We further assume that the so-called rate of this process (or mean number of ocurring events), $\\lambda=Np$, is finite and constant. Then the probability of $k$ events occurring follows a Poisson distribution given by $$P(k|\\lambda)=\\frac{\\lambda^k e^{-\\lambda}}{k!}.$$ So the Poisson distribution describes the distributions of events, where each single one is rare but we perform a large number of trials in order to keep $\\lambda$ constant. An example for this is the number of photons reaching a telescope.\n",
    "\n",
    "One of the earliest application of Poisson processes was the probability of Prussian soldiers being kicked to death by horses. This problem was analyzed by Ladislaus Bortkiewicz in 1898. Analyzing 10 Prussian corps for 20 years he collected the following data:\n",
    "\n",
    "| Number of deaths | Number of groups |\n",
    "|:---| :--- |\n",
    "| 0 | 109 |\n",
    "| 1 | 65 |\n",
    "| 2 | 22 |\n",
    "| 3 | 3 |\n",
    "| 4 | 1 |\n",
    "\n",
    "(i) Plot the probability distribution of these data.\n",
    "\n",
    "(ii) Compare to the theoretical prediction using Poisson statistics."
   ]
  },
  {
   "cell_type": "code",
   "execution_count": null,
   "metadata": {},
   "outputs": [],
   "source": []
  }
 ],
 "metadata": {
  "kernelspec": {
   "display_name": "Python 3",
   "language": "python",
   "name": "python3"
  },
  "language_info": {
   "codemirror_mode": {
    "name": "ipython",
    "version": 3
   },
   "file_extension": ".py",
   "mimetype": "text/x-python",
   "name": "python",
   "nbconvert_exporter": "python",
   "pygments_lexer": "ipython3",
   "version": "3.12.6"
  }
 },
 "nbformat": 4,
 "nbformat_minor": 2
}
